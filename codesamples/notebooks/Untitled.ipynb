{
 "cells": [
  {
   "cell_type": "code",
   "execution_count": 9,
   "id": "24a5f2f3",
   "metadata": {},
   "outputs": [],
   "source": [
    "import os\n",
    "import sys\n",
    "import constants\n"
   ]
  },
  {
   "cell_type": "code",
   "execution_count": 10,
   "id": "a83ba04b",
   "metadata": {},
   "outputs": [
    {
     "name": "stdout",
     "output_type": "stream",
     "text": [
      "/home/twilson/github/fhirexamples/src/notebooks\n",
      "['social-history', 'vital-signs', 'imaging', 'laboratory', 'procedure', 'survey', 'exam', 'therapy', 'activity']\n"
     ]
    }
   ],
   "source": [
    "print(os.getcwd())\n",
    "c = constants\n",
    "print(c.observationCategories)"
   ]
  },
  {
   "cell_type": "code",
   "execution_count": null,
   "id": "d4deaf0a",
   "metadata": {},
   "outputs": [],
   "source": []
  }
 ],
 "metadata": {
  "kernelspec": {
   "display_name": "Python 3 (ipykernel)",
   "language": "python",
   "name": "python3"
  },
  "language_info": {
   "codemirror_mode": {
    "name": "ipython",
    "version": 3
   },
   "file_extension": ".py",
   "mimetype": "text/x-python",
   "name": "python",
   "nbconvert_exporter": "python",
   "pygments_lexer": "ipython3",
   "version": "3.8.10"
  }
 },
 "nbformat": 4,
 "nbformat_minor": 5
}
