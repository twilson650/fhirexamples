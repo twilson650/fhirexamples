{
 "cells": [
  {
   "cell_type": "code",
   "execution_count": 1,
   "id": "9291d0da",
   "metadata": {},
   "outputs": [
    {
     "name": "stdout",
     "output_type": "stream",
     "text": [
      "Hi there\n",
      "1945-12-10\n"
     ]
    }
   ],
   "source": [
    "from fhirclient import client\n",
    "import fhirclient.models.patient as p\n",
    "import fhirclient.models.capabilitystatement as metadata\n",
    "\n",
    "settings = {\n",
    "    'app_id': 'local_docker_fhir',\n",
    "    'api_base': 'http://localhost:8080/fhir'\n",
    "}\n",
    "smart = client.FHIRClient(settings=settings)\n",
    "\n",
    "\n",
    "try:\n",
    "    print(\"Hi there\")\n",
    "    patient = p.Patient.read('1', smart.server)\n",
    "    print(patient.birthDate.isostring)\n",
    "except Exception as e:\n",
    "    print(\"FHIR Operation error: {0}\".format(e))"
   ]
  },
  {
   "cell_type": "code",
   "execution_count": 2,
   "id": "beb0c17d",
   "metadata": {},
   "outputs": [
    {
     "data": {
      "text/plain": [
       "True"
      ]
     },
     "execution_count": 2,
     "metadata": {},
     "output_type": "execute_result"
    }
   ],
   "source": [
    "smart.prepare()"
   ]
  },
  {
   "cell_type": "code",
   "execution_count": 3,
   "id": "665b5540",
   "metadata": {},
   "outputs": [
    {
     "data": {
      "text/plain": [
       "models.capabilitystatement.CapabilityStatement"
      ]
     },
     "execution_count": 3,
     "metadata": {},
     "output_type": "execute_result"
    }
   ],
   "source": [
    "meta = smart.server.capabilityStatement\n",
    "type(meta)"
   ]
  },
  {
   "cell_type": "code",
   "execution_count": 4,
   "id": "a5039b59",
   "metadata": {},
   "outputs": [
    {
     "data": {
      "text/plain": [
       "['__class__',\n",
       " '__delattr__',\n",
       " '__dict__',\n",
       " '__dir__',\n",
       " '__doc__',\n",
       " '__eq__',\n",
       " '__format__',\n",
       " '__ge__',\n",
       " '__getattribute__',\n",
       " '__gt__',\n",
       " '__hash__',\n",
       " '__init__',\n",
       " '__init_subclass__',\n",
       " '__le__',\n",
       " '__lt__',\n",
       " '__module__',\n",
       " '__ne__',\n",
       " '__new__',\n",
       " '__reduce__',\n",
       " '__reduce_ex__',\n",
       " '__repr__',\n",
       " '__setattr__',\n",
       " '__sizeof__',\n",
       " '__str__',\n",
       " '__subclasshook__',\n",
       " '__weakref__',\n",
       " '_matches_type',\n",
       " '_owner',\n",
       " '_resolved',\n",
       " '_server',\n",
       " '_with_json_dict',\n",
       " 'as_json',\n",
       " 'contact',\n",
       " 'contained',\n",
       " 'copyright',\n",
       " 'create',\n",
       " 'date',\n",
       " 'delete',\n",
       " 'description',\n",
       " 'didResolveReference',\n",
       " 'document',\n",
       " 'elementProperties',\n",
       " 'experimental',\n",
       " 'extension',\n",
       " 'fhirVersion',\n",
       " 'format',\n",
       " 'id',\n",
       " 'implementation',\n",
       " 'implementationGuide',\n",
       " 'implicitRules',\n",
       " 'imports',\n",
       " 'instantiates',\n",
       " 'jurisdiction',\n",
       " 'kind',\n",
       " 'language',\n",
       " 'messaging',\n",
       " 'meta',\n",
       " 'modifierExtension',\n",
       " 'name',\n",
       " 'origin_server',\n",
       " 'owningBundle',\n",
       " 'owningResource',\n",
       " 'patchFormat',\n",
       " 'publisher',\n",
       " 'purpose',\n",
       " 'read',\n",
       " 'read_from',\n",
       " 'relativeBase',\n",
       " 'relativePath',\n",
       " 'resolvedReference',\n",
       " 'resource_type',\n",
       " 'rest',\n",
       " 'search',\n",
       " 'software',\n",
       " 'status',\n",
       " 'text',\n",
       " 'title',\n",
       " 'update',\n",
       " 'update_with_json',\n",
       " 'url',\n",
       " 'useContext',\n",
       " 'version',\n",
       " 'where',\n",
       " 'with_json',\n",
       " 'with_json_and_owner']"
      ]
     },
     "execution_count": 4,
     "metadata": {},
     "output_type": "execute_result"
    }
   ],
   "source": [
    "dir(meta)"
   ]
  },
  {
   "cell_type": "code",
   "execution_count": 5,
   "id": "50307c0c",
   "metadata": {},
   "outputs": [
    {
     "data": {
      "text/plain": [
       "<models.capabilitystatement.CapabilityStatementRest at 0x7f6d91ffbac0>"
      ]
     },
     "execution_count": 5,
     "metadata": {},
     "output_type": "execute_result"
    }
   ],
   "source": [
    "meta.rest[0]"
   ]
  },
  {
   "cell_type": "code",
   "execution_count": 6,
   "id": "516951f5",
   "metadata": {},
   "outputs": [],
   "source": [
    "for restResource in meta.rest:\n",
    "    type(restResource)\n",
    "    "
   ]
  },
  {
   "cell_type": "code",
   "execution_count": null,
   "id": "6e700581",
   "metadata": {},
   "outputs": [],
   "source": []
  }
 ],
 "metadata": {
  "kernelspec": {
   "display_name": "Python 3 (ipykernel)",
   "language": "python",
   "name": "python3"
  },
  "language_info": {
   "codemirror_mode": {
    "name": "ipython",
    "version": 3
   },
   "file_extension": ".py",
   "mimetype": "text/x-python",
   "name": "python",
   "nbconvert_exporter": "python",
   "pygments_lexer": "ipython3",
   "version": "3.8.10"
  }
 },
 "nbformat": 4,
 "nbformat_minor": 5
}
